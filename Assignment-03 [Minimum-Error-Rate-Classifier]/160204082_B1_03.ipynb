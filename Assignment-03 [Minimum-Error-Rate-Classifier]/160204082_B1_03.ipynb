{
 "cells": [
  {
   "cell_type": "code",
   "execution_count": 137,
   "metadata": {},
   "outputs": [],
   "source": [
    "import matplotlib.pyplot as plt\n",
    "%matplotlib inline\n",
    "from IPython.display import display \n",
    "from matplotlib import cm\n",
    "from mpl_toolkits.mplot3d import Axes3D"
   ]
  },
  {
   "cell_type": "code",
   "execution_count": 138,
   "metadata": {},
   "outputs": [],
   "source": [
    "import numpy as np\n",
    "import pandas as pd\n",
    "import math"
   ]
  },
  {
   "cell_type": "code",
   "execution_count": 139,
   "metadata": {},
   "outputs": [
    {
     "data": {
      "text/html": [
       "<div>\n",
       "<style scoped>\n",
       "    .dataframe tbody tr th:only-of-type {\n",
       "        vertical-align: middle;\n",
       "    }\n",
       "\n",
       "    .dataframe tbody tr th {\n",
       "        vertical-align: top;\n",
       "    }\n",
       "\n",
       "    .dataframe thead th {\n",
       "        text-align: right;\n",
       "    }\n",
       "</style>\n",
       "<table border=\"1\" class=\"dataframe\">\n",
       "  <thead>\n",
       "    <tr style=\"text-align: right;\">\n",
       "      <th></th>\n",
       "      <th>0</th>\n",
       "      <th>1</th>\n",
       "    </tr>\n",
       "  </thead>\n",
       "  <tbody>\n",
       "    <tr>\n",
       "      <th>0</th>\n",
       "      <td>1</td>\n",
       "      <td>1.0</td>\n",
       "    </tr>\n",
       "    <tr>\n",
       "      <th>1</th>\n",
       "      <td>1</td>\n",
       "      <td>-1.0</td>\n",
       "    </tr>\n",
       "    <tr>\n",
       "      <th>2</th>\n",
       "      <td>4</td>\n",
       "      <td>5.0</td>\n",
       "    </tr>\n",
       "    <tr>\n",
       "      <th>3</th>\n",
       "      <td>-2</td>\n",
       "      <td>2.5</td>\n",
       "    </tr>\n",
       "    <tr>\n",
       "      <th>4</th>\n",
       "      <td>0</td>\n",
       "      <td>2.0</td>\n",
       "    </tr>\n",
       "    <tr>\n",
       "      <th>5</th>\n",
       "      <td>2</td>\n",
       "      <td>-3.0</td>\n",
       "    </tr>\n",
       "  </tbody>\n",
       "</table>\n",
       "</div>"
      ],
      "text/plain": [
       "   0    1\n",
       "0  1  1.0\n",
       "1  1 -1.0\n",
       "2  4  5.0\n",
       "3 -2  2.5\n",
       "4  0  2.0\n",
       "5  2 -3.0"
      ]
     },
     "execution_count": 139,
     "metadata": {},
     "output_type": "execute_result"
    }
   ],
   "source": [
    "train = pd.read_csv('TMERC.txt',header = None)\n",
    "train"
   ]
  },
  {
   "cell_type": "code",
   "execution_count": 140,
   "metadata": {},
   "outputs": [
    {
     "data": {
      "text/plain": [
       "array([[ 1. ,  1. ],\n",
       "       [ 1. , -1. ],\n",
       "       [ 4. ,  5. ],\n",
       "       [-2. ,  2.5],\n",
       "       [ 0. ,  2. ],\n",
       "       [ 2. , -3. ]])"
      ]
     },
     "execution_count": 140,
     "metadata": {},
     "output_type": "execute_result"
    }
   ],
   "source": [
    "train = np.array(train)\n",
    "train"
   ]
  },
  {
   "cell_type": "code",
   "execution_count": 141,
   "metadata": {},
   "outputs": [],
   "source": [
    "class1 = []\n",
    "class2 = []\n",
    "#prior w1, w2\n",
    "w1 = .5 \n",
    "w2 = .5\n",
    "d = train.ndim # (d = 2)"
   ]
  },
  {
   "cell_type": "code",
   "execution_count": 142,
   "metadata": {},
   "outputs": [],
   "source": [
    "sigma1 = np.array([[0.25,0.3],[0.3,1]])\n",
    "sigma2 = np.array([[0.5,0],[0,0.5]])"
   ]
  },
  {
   "cell_type": "code",
   "execution_count": 143,
   "metadata": {},
   "outputs": [],
   "source": [
    "\n",
    "mean1 = np.array([0,0])\n",
    "mean2 = np.array([2,2])"
   ]
  },
  {
   "cell_type": "code",
   "execution_count": 144,
   "metadata": {},
   "outputs": [],
   "source": [
    "# for class 1\n",
    "x1 = []\n",
    "y1 = []\n",
    "\n",
    "# for class 2\n",
    "x2 = []\n",
    "y2 = []"
   ]
  },
  {
   "cell_type": "code",
   "execution_count": 150,
   "metadata": {},
   "outputs": [],
   "source": [
    "n = (train.size)/2 # 12/2 = 6\n",
    "\n",
    "temp = []\n",
    "\n",
    "for i in range(int(n)):\n",
    "    g1 = -0.5*(np.dot(np.dot(train[i] - mean1,np.linalg.inv(sigma1)), (train[i] - mean1).T)) - (d/2)*np.log(2*np.pi) - (0.5 * np.log(np.linalg.det(sigma1))) + w1\n",
    "    g2 = -0.5*(np.dot(np.dot(train[i] - mean2,np.linalg.inv(sigma2)), (train[i] - mean2).T)) - (d/2)*np.log(2*np.pi) - (0.5 * np.log(np.linalg.det(sigma2))) + w2\n",
    "    #print(g1,\"    \",g2)\n",
    "    a = train[i][0]\n",
    "    b = train[i][1]\n",
    "    if g1 > g2:\n",
    "        x1.append(a)\n",
    "        y1.append(b) \n",
    "        temp.append(a)\n",
    "        temp.append(b)\n",
    "        temp.append(1)\n",
    "        class1.append(temp)\n",
    "    else:\n",
    "        x2.append(a)\n",
    "        y2.append(b)\n",
    "        temp.append(a)\n",
    "        temp.append(b)\n",
    "        temp.append(2)\n",
    "        class2.append(temp)\n",
    "    temp = []"
   ]
  },
  {
   "cell_type": "code",
   "execution_count": 151,
   "metadata": {},
   "outputs": [
    {
     "name": "stdout",
     "output_type": "stream",
     "text": [
      "[1.0, 1.0, 0.0] [1.0, -1.0, 2.0]\n",
      "[4.0, -2.0, 2.0] [5.0, 2.5, -3.0]\n"
     ]
    }
   ],
   "source": [
    "print(x1,y1)\n",
    "print(x2,y2)"
   ]
  },
  {
   "cell_type": "code",
   "execution_count": 152,
   "metadata": {},
   "outputs": [
    {
     "name": "stdout",
     "output_type": "stream",
     "text": [
      "Class 1 :  [[1.0, 1.0, 1], [1.0, -1.0, 1], [0.0, 2.0, 1]]\n",
      "Class 2 :  [[4.0, 5.0, 2], [-2.0, 2.5, 2], [2.0, -3.0, 2]]\n"
     ]
    }
   ],
   "source": [
    "\n",
    "print(\"Class 1 : \", class1)\n",
    "print(\"Class 2 : \",class2)\n"
   ]
  },
  {
   "cell_type": "code",
   "execution_count": 158,
   "metadata": {},
   "outputs": [
    {
     "data": {
      "image/png": "[encoded data removed]",
      "text/plain": [
       "<Figure size 432x288 with 1 Axes>"
      ]
     },
     "metadata": {},
     "output_type": "display_data"
    }
   ],
   "source": [
    "# Create a surface plot and projected filled contour plot under it.\n",
    "fig = plt.figure()\n",
    "ax = fig.gca(projection='3d')\n",
    "\n",
    "\n",
    "# Adjust the limits, ticks and view angle\n",
    "ax.set_zlim(-0.15,0.2)\n",
    "ax.set_zticks(np.linspace(0,0.2,5))\n",
    "ax.view_init(27, -50)\n",
    "\n",
    "\n",
    "ax.scatter(x1,y1,0, color = 'r',marker = \"o\", alpha = 0.8,  label = 'class 1')\n",
    "ax.scatter(x2,y2,0, color = 'b',marker = \"o\", alpha = 0.8,  label = 'class 2')\n",
    "\n",
    "plt.legend()\n",
    "plt.show()"
   ]
  },
  {
   "cell_type": "code",
   "execution_count": 153,
   "metadata": {},
   "outputs": [
    {
     "data": {
      "text/plain": [
       "\"\\nfrom mpl_toolkits import mplot3d\\nimport numpy as np\\nimport matplotlib.pyplot as plt\\ndef f(x, y):\\n    return np.sin(np.sqrt(x ** 2 + y ** 2))\\n\\nx = np.linspace(-6, 6, 60)\\ny = np.linspace(-6, 6, 60)\\n\\nX, Y = np.meshgrid(x1, y1)\\nZ = f(X, Y)\\n\\nfig = plt.figure()\\nax = plt.axes(projection='3d')\\nax.contour3D(X, Y, Z, 50, cmap='binary')\\nax.set_xlabel('x')\\nax.set_ylabel('y')\\nax.set_zlabel('z')\\nax.set_title('3D contour')\\nplt.show()\\n\""
      ]
     },
     "execution_count": 153,
     "metadata": {},
     "output_type": "execute_result"
    }
   ],
   "source": [
    "'''\n",
    "from mpl_toolkits import mplot3d\n",
    "import numpy as np\n",
    "import matplotlib.pyplot as plt\n",
    "def f(x, y):\n",
    "    return np.sin(np.sqrt(x ** 2 + y ** 2))\n",
    "\n",
    "x = np.linspace(-6, 6, 60)\n",
    "y = np.linspace(-6, 6, 60)\n",
    "\n",
    "X, Y = np.meshgrid(x1, y1)\n",
    "Z = f(X, Y)\n",
    "\n",
    "fig = plt.figure()\n",
    "ax = plt.axes(projection='3d')\n",
    "ax.contour3D(X, Y, Z, 50, cmap='binary')\n",
    "ax.set_xlabel('x')\n",
    "ax.set_ylabel('y')\n",
    "ax.set_zlabel('z')\n",
    "ax.set_title('3D contour')\n",
    "plt.show()\n",
    "'''"
   ]
  },
  {
   "cell_type": "code",
   "execution_count": 172,
   "metadata": {},
   "outputs": [
    {
     "data": {
      "image/png": "[encoded data removed]",
      "text/plain": [
       "<Figure size 432x288 with 1 Axes>"
      ]
     },
     "metadata": {},
     "output_type": "display_data"
    }
   ],
   "source": [
    "###########\n",
    "## Reference : https://scipython.com/blog/visualizing-the-bivariate-gaussian-distribution/?fbclid=IwAR1CrhQe7bpGl-LICNjpTkArYxPmsNLDal7kZ67RTq_DAkvWcuSYUtg5DFQ\n",
    "###########\n",
    "\n",
    "N = 60\n",
    "X = np.linspace(-6, 6, 60) ## range -6 to +6 60 times\n",
    "Y = np.linspace(-6, 6, 60)\n",
    "X, Y = np.meshgrid(X, Y) #convert it to numpyarray\n",
    "#print(X)\n",
    "\n",
    "\n",
    "# Pack X and Y into a single 3-dimensional array\n",
    "pos = np.empty(X.shape + (2,))\n",
    "pos[:, :, 0] = X\n",
    "pos[:, :, 1] = Y\n",
    "\n",
    "def multivariateGaussian(pos, mu, Sigma):\n",
    "    n = mu.shape[0] # dimension\n",
    "    Sigma_det = np.linalg.det(Sigma)\n",
    "    Sigma_inv = np.linalg.inv(Sigma)\n",
    "    N = np.sqrt((2*np.pi)**n * Sigma_det)\n",
    "    # This einsum call calculates (x-mu)T.Sigma-1.(x-mu) in a vectorized\n",
    "    # way across all the input variables.\n",
    "    fac = np.einsum('...k,kl,...l->...', pos-mu, Sigma_inv, pos-mu)\n",
    "    \n",
    "    return np.exp(-fac / 2) / N\n",
    "\n",
    "# The distribution on the variables X, Y packed into pos.\n",
    "Z1 = multivariateGaussian(pos, mean1, sigma1)\n",
    "Z2 = multivariateGaussian(pos, mean2, sigma2)\n",
    "\n",
    "\n",
    "# Create a surface plot and projected filled contour plot under it.\n",
    "fig = plt.figure()\n",
    "ax = fig.gca(projection='3d')\n",
    "ax.plot_surface(X, Y, Z1, rstride=3, cstride=3, linewidth=1, alpha = 0.4 ,antialiased=True,cmap=cm.viridis)\n",
    "#ax.plot_surface(X, Y, Z2, rstride=3, cstride=3, linewidth=1, alpha = 0.4 ,antialiased=True,cmap=cm.viridis)\n",
    "\n",
    "cset1 = ax.contourf(X, Y, Z1, zdir='z', offset=-0.15, cmap=cm.viridis)\n",
    "#cset2 = ax.contourf(X, Y, Z2, zdir='z', offset=-0.15, cmap=cm.viridis)\n",
    "\n",
    "#decision boundary\n",
    "db = ax.contourf(X, Y, (Z1 - Z2), zdir='z', offset=-0.15, cmap=cm.cividis)\n",
    "\n",
    "\n",
    "# Adjust the limits, ticks and view angle\n",
    "ax.set_zlim(-0.15,0.2)\n",
    "ax.set_zticks(np.linspace(0,0.2,5))\n",
    "ax.view_init(27, -50)\n",
    "\n",
    "\n",
    "ax.scatter(x1,y1,0, color = 'r',marker = \"o\", alpha = 0.8,  label = 'class 1')\n",
    "ax.scatter(x2,y2,0, color = 'b',marker = \"o\", alpha = 0.8,  label = 'class 2')\n",
    "\n",
    "plt.legend()\n",
    "plt.show()\n"
   ]
  },
  {
   "cell_type": "code",
   "execution_count": null,
   "metadata": {},
   "outputs": [],
   "source": []
  },
  {
   "cell_type": "code",
   "execution_count": null,
   "metadata": {},
   "outputs": [],
   "source": [
    "'''\n",
    "X = np.linspace(-6, 6, 60) ## range -6 to +6 60 times\n",
    "Y = np.linspace(-6, 6, 60)\n",
    "X, Y = np.meshgrid(X, Y)\n",
    "X\n",
    "'''"
   ]
  },
  {
   "cell_type": "code",
   "execution_count": null,
   "metadata": {},
   "outputs": [],
   "source": []
  }
 ],
 "metadata": {
  "kernelspec": {
   "display_name": "Python 3",
   "language": "python",
   "name": "python3"
  },
  "language_info": {
   "codemirror_mode": {
    "name": "ipython",
    "version": 3
   },
   "file_extension": ".py",
   "mimetype": "text/x-python",
   "name": "python",
   "nbconvert_exporter": "python",
   "pygments_lexer": "ipython3",
   "version": "3.6.4"
  }
 },
 "nbformat": 4,
 "nbformat_minor": 2
}
