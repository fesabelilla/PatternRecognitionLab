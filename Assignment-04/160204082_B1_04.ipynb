{
 "cells": [
  {
   "cell_type": "code",
   "execution_count": 36,
   "metadata": {},
   "outputs": [],
   "source": [
    "import matplotlib.pyplot as plt\n",
    "%matplotlib inline"
   ]
  },
  {
   "cell_type": "code",
   "execution_count": 37,
   "metadata": {},
   "outputs": [],
   "source": [
    "import numpy as np\n",
    "import math"
   ]
  },
  {
   "cell_type": "code",
   "execution_count": 38,
   "metadata": {},
   "outputs": [],
   "source": [
    "x1,y1 = [], []\n",
    "x2,y2 = [], []\n",
    "class1 = []\n",
    "class2 = []\n",
    "classTrain = []\n",
    "for line in open('train_knn.txt', 'r'):\n",
    "    temp = []\n",
    "    values = [float(s) for s in line.split(',')]\n",
    "    if(values[2] == 1):\n",
    "        x1.append(values[0])\n",
    "        y1.append(values[1])\n",
    "        temp.append(values[0])\n",
    "        temp.append(values[1])\n",
    "        temp.append(1)\n",
    "        class1.append(temp)\n",
    "        classTrain.append(temp)\n",
    "\n",
    "    if(values[2] == 2):\n",
    "        x2.append(values[0])\n",
    "        y2.append(values[1])\n",
    "        temp.append(values[0])\n",
    "        temp.append(values[1])\n",
    "        temp.append(2)\n",
    "        class2.append(temp)\n",
    "        classTrain.append(temp)"
   ]
  },
  {
   "cell_type": "code",
   "execution_count": 39,
   "metadata": {},
   "outputs": [
    {
     "data": {
      "text/plain": [
       "[[7.0, 7.0, 1],\n",
       " [7.0, 4.0, 1],\n",
       " [6.0, 4.0, 1],\n",
       " [7.0, 5.0, 1],\n",
       " [7.0, 6.0, 1],\n",
       " [6.0, 7.0, 1],\n",
       " [6.0, 6.0, 1]]"
      ]
     },
     "execution_count": 39,
     "metadata": {},
     "output_type": "execute_result"
    }
   ],
   "source": [
    "class1"
   ]
  },
  {
   "cell_type": "code",
   "execution_count": 40,
   "metadata": {},
   "outputs": [
    {
     "data": {
      "text/plain": [
       "[[3.0, 4.0, 2],\n",
       " [2.0, 3.0, 2],\n",
       " [3.0, 2.0, 2],\n",
       " [4.0, 3.0, 2],\n",
       " [3.0, 3.0, 2],\n",
       " [4.0, 4.0, 2],\n",
       " [1.0, 4.0, 2]]"
      ]
     },
     "execution_count": 40,
     "metadata": {},
     "output_type": "execute_result"
    }
   ],
   "source": [
    "class2"
   ]
  },
  {
   "cell_type": "code",
   "execution_count": 41,
   "metadata": {},
   "outputs": [
    {
     "name": "stdout",
     "output_type": "stream",
     "text": [
      "X1 :  [7.0, 7.0, 6.0, 7.0, 7.0, 6.0, 6.0]\n",
      "Y1 :  [7.0, 4.0, 4.0, 5.0, 6.0, 7.0, 6.0]\n",
      "X2 :  [3.0, 2.0, 3.0, 4.0, 3.0, 4.0, 1.0]\n",
      "Y2 :  [4.0, 3.0, 2.0, 3.0, 3.0, 4.0, 4.0]\n"
     ]
    }
   ],
   "source": [
    "print(\"X1 : \",x1)\n",
    "print(\"Y1 : \",y1)\n",
    "\n",
    "print(\"X2 : \",x2)\n",
    "print(\"Y2 : \",y2)"
   ]
  },
  {
   "cell_type": "code",
   "execution_count": 42,
   "metadata": {},
   "outputs": [
    {
     "data": {
      "text/plain": [
       "[]"
      ]
     },
     "execution_count": 42,
     "metadata": {},
     "output_type": "execute_result"
    },
    {
     "data": {
      "image/png": "[encoded data removed]",
      "text/plain": [
       "<Figure size 1080x720 with 1 Axes>"
      ]
     },
     "metadata": {},
     "output_type": "display_data"
    }
   ],
   "source": [
    "plt.figure(figsize=(15, 10))\n",
    " \n",
    "red_dot, = plt.plot(x1,y1,'ro',markersize = 10) # red dot\n",
    "blk_str, = plt.plot(x2,y2,'ok',marker='*',markersize=10) # black *\n",
    "\n",
    "plt.legend([red_dot, blk_str], [\"Class1\", \"Class2\"])\n",
    "\n",
    "\n",
    "plt.plot()\n"
   ]
  },
  {
   "cell_type": "code",
   "execution_count": 43,
   "metadata": {},
   "outputs": [],
   "source": [
    "### for test\n",
    "xt,yt = [], []\n",
    "\n",
    "for line in open('test_knn.txt', 'r'):\n",
    "    values = [float(s) for s in line.split(',')]\n",
    "    xt.append(values[0])\n",
    "    yt.append(values[1])\n",
    "    "
   ]
  },
  {
   "cell_type": "code",
   "execution_count": 44,
   "metadata": {},
   "outputs": [
    {
     "name": "stdout",
     "output_type": "stream",
     "text": [
      "[3.0, 7.0, 4.0, 2.0, 3.0, 1.0, 4.0, 8.0, 8.0]\n",
      "[7.0, 7.0, 3.0, 8.0, 5.0, 2.0, 8.0, 3.0, 4.0]\n"
     ]
    }
   ],
   "source": [
    "print(xt)\n",
    "print(yt)"
   ]
  },
  {
   "cell_type": "code",
   "execution_count": null,
   "metadata": {},
   "outputs": [],
   "source": []
  },
  {
   "cell_type": "code",
   "execution_count": 45,
   "metadata": {},
   "outputs": [
    {
     "name": "stdout",
     "output_type": "stream",
     "text": [
      "Enter your value: 5\n"
     ]
    }
   ],
   "source": [
    "k = input(\"Enter your value: \") "
   ]
  },
  {
   "cell_type": "code",
   "execution_count": 46,
   "metadata": {},
   "outputs": [
    {
     "name": "stdout",
     "output_type": "stream",
     "text": [
      "7.0    7.0    3.0    7.0    4.0\n",
      "7.0    4.0    3.0    7.0    5.0\n",
      "6.0    4.0    3.0    7.0    4.242640687119285\n",
      "7.0    5.0    3.0    7.0    4.47213595499958\n",
      "7.0    6.0    3.0    7.0    4.123105625617661\n",
      "6.0    7.0    3.0    7.0    3.0\n",
      "6.0    6.0    3.0    7.0    3.1622776601683795\n",
      "3.0    4.0    3.0    7.0    3.0\n",
      "2.0    3.0    3.0    7.0    4.123105625617661\n",
      "3.0    2.0    3.0    7.0    5.0\n",
      "4.0    3.0    3.0    7.0    4.123105625617661\n",
      "3.0    3.0    3.0    7.0    4.0\n",
      "4.0    4.0    3.0    7.0    3.1622776601683795\n",
      "1.0    4.0    3.0    7.0    3.605551275463989\n",
      "\n",
      "\n",
      "\n",
      "7.0    7.0    7.0    7.0    0.0\n",
      "7.0    4.0    7.0    7.0    3.0\n",
      "6.0    4.0    7.0    7.0    3.1622776601683795\n",
      "7.0    5.0    7.0    7.0    2.0\n",
      "7.0    6.0    7.0    7.0    1.0\n",
      "6.0    7.0    7.0    7.0    1.0\n",
      "6.0    6.0    7.0    7.0    1.4142135623730951\n",
      "3.0    4.0    7.0    7.0    5.0\n",
      "2.0    3.0    7.0    7.0    6.4031242374328485\n",
      "3.0    2.0    7.0    7.0    6.4031242374328485\n",
      "4.0    3.0    7.0    7.0    5.0\n",
      "3.0    3.0    7.0    7.0    5.656854249492381\n",
      "4.0    4.0    7.0    7.0    4.242640687119285\n",
      "1.0    4.0    7.0    7.0    6.708203932499369\n",
      "\n",
      "\n",
      "\n",
      "7.0    7.0    4.0    3.0    5.0\n",
      "7.0    4.0    4.0    3.0    3.1622776601683795\n",
      "6.0    4.0    4.0    3.0    2.23606797749979\n",
      "7.0    5.0    4.0    3.0    3.605551275463989\n",
      "7.0    6.0    4.0    3.0    4.242640687119285\n",
      "6.0    7.0    4.0    3.0    4.47213595499958\n",
      "6.0    6.0    4.0    3.0    3.605551275463989\n",
      "3.0    4.0    4.0    3.0    1.4142135623730951\n",
      "2.0    3.0    4.0    3.0    2.0\n",
      "3.0    2.0    4.0    3.0    1.4142135623730951\n",
      "4.0    3.0    4.0    3.0    0.0\n",
      "3.0    3.0    4.0    3.0    1.0\n",
      "4.0    4.0    4.0    3.0    1.0\n",
      "1.0    4.0    4.0    3.0    3.1622776601683795\n",
      "\n",
      "\n",
      "\n",
      "7.0    7.0    2.0    8.0    5.0990195135927845\n",
      "7.0    4.0    2.0    8.0    6.4031242374328485\n",
      "6.0    4.0    2.0    8.0    5.656854249492381\n",
      "7.0    5.0    2.0    8.0    5.830951894845301\n",
      "7.0    6.0    2.0    8.0    5.385164807134504\n",
      "6.0    7.0    2.0    8.0    4.123105625617661\n",
      "6.0    6.0    2.0    8.0    4.47213595499958\n",
      "3.0    4.0    2.0    8.0    4.123105625617661\n",
      "2.0    3.0    2.0    8.0    5.0\n",
      "3.0    2.0    2.0    8.0    6.082762530298219\n",
      "4.0    3.0    2.0    8.0    5.385164807134504\n",
      "3.0    3.0    2.0    8.0    5.0990195135927845\n",
      "4.0    4.0    2.0    8.0    4.47213595499958\n",
      "1.0    4.0    2.0    8.0    4.123105625617661\n",
      "\n",
      "\n",
      "\n",
      "7.0    7.0    3.0    5.0    4.47213595499958\n",
      "7.0    4.0    3.0    5.0    4.123105625617661\n",
      "6.0    4.0    3.0    5.0    3.1622776601683795\n",
      "7.0    5.0    3.0    5.0    4.0\n",
      "7.0    6.0    3.0    5.0    4.123105625617661\n",
      "6.0    7.0    3.0    5.0    3.605551275463989\n",
      "6.0    6.0    3.0    5.0    3.1622776601683795\n",
      "3.0    4.0    3.0    5.0    1.0\n",
      "2.0    3.0    3.0    5.0    2.23606797749979\n",
      "3.0    2.0    3.0    5.0    3.0\n",
      "4.0    3.0    3.0    5.0    2.23606797749979\n",
      "3.0    3.0    3.0    5.0    2.0\n",
      "4.0    4.0    3.0    5.0    1.4142135623730951\n",
      "1.0    4.0    3.0    5.0    2.23606797749979\n",
      "\n",
      "\n",
      "\n",
      "7.0    7.0    1.0    2.0    7.810249675906654\n",
      "7.0    4.0    1.0    2.0    6.324555320336759\n",
      "6.0    4.0    1.0    2.0    5.385164807134504\n",
      "7.0    5.0    1.0    2.0    6.708203932499369\n",
      "7.0    6.0    1.0    2.0    7.211102550927978\n",
      "6.0    7.0    1.0    2.0    7.0710678118654755\n",
      "6.0    6.0    1.0    2.0    6.4031242374328485\n",
      "3.0    4.0    1.0    2.0    2.8284271247461903\n",
      "2.0    3.0    1.0    2.0    1.4142135623730951\n",
      "3.0    2.0    1.0    2.0    2.0\n",
      "4.0    3.0    1.0    2.0    3.1622776601683795\n",
      "3.0    3.0    1.0    2.0    2.23606797749979\n",
      "4.0    4.0    1.0    2.0    3.605551275463989\n",
      "1.0    4.0    1.0    2.0    2.0\n",
      "\n",
      "\n",
      "\n",
      "7.0    7.0    4.0    8.0    3.1622776601683795\n",
      "7.0    4.0    4.0    8.0    5.0\n",
      "6.0    4.0    4.0    8.0    4.47213595499958\n",
      "7.0    5.0    4.0    8.0    4.242640687119285\n",
      "7.0    6.0    4.0    8.0    3.605551275463989\n",
      "6.0    7.0    4.0    8.0    2.23606797749979\n",
      "6.0    6.0    4.0    8.0    2.8284271247461903\n",
      "3.0    4.0    4.0    8.0    4.123105625617661\n",
      "2.0    3.0    4.0    8.0    5.385164807134504\n",
      "3.0    2.0    4.0    8.0    6.082762530298219\n",
      "4.0    3.0    4.0    8.0    5.0\n",
      "3.0    3.0    4.0    8.0    5.0990195135927845\n",
      "4.0    4.0    4.0    8.0    4.0\n",
      "1.0    4.0    4.0    8.0    5.0\n",
      "\n",
      "\n",
      "\n",
      "7.0    7.0    8.0    3.0    4.123105625617661\n",
      "7.0    4.0    8.0    3.0    1.4142135623730951\n",
      "6.0    4.0    8.0    3.0    2.23606797749979\n",
      "7.0    5.0    8.0    3.0    2.23606797749979\n",
      "7.0    6.0    8.0    3.0    3.1622776601683795\n",
      "6.0    7.0    8.0    3.0    4.47213595499958\n",
      "6.0    6.0    8.0    3.0    3.605551275463989\n",
      "3.0    4.0    8.0    3.0    5.0990195135927845\n",
      "2.0    3.0    8.0    3.0    6.0\n",
      "3.0    2.0    8.0    3.0    5.0990195135927845\n",
      "4.0    3.0    8.0    3.0    4.0\n",
      "3.0    3.0    8.0    3.0    5.0\n",
      "4.0    4.0    8.0    3.0    4.123105625617661\n",
      "1.0    4.0    8.0    3.0    7.0710678118654755\n",
      "\n",
      "\n",
      "\n",
      "7.0    7.0    8.0    4.0    3.1622776601683795\n",
      "7.0    4.0    8.0    4.0    1.0\n",
      "6.0    4.0    8.0    4.0    2.0\n",
      "7.0    5.0    8.0    4.0    1.4142135623730951\n",
      "7.0    6.0    8.0    4.0    2.23606797749979\n",
      "6.0    7.0    8.0    4.0    3.605551275463989\n",
      "6.0    6.0    8.0    4.0    2.8284271247461903\n",
      "3.0    4.0    8.0    4.0    5.0\n",
      "2.0    3.0    8.0    4.0    6.082762530298219\n",
      "3.0    2.0    8.0    4.0    5.385164807134504\n",
      "4.0    3.0    8.0    4.0    4.123105625617661\n",
      "3.0    3.0    8.0    4.0    5.0990195135927845\n",
      "4.0    4.0    8.0    4.0    4.0\n",
      "1.0    4.0    8.0    4.0    7.0\n",
      "\n",
      "\n",
      "\n"
     ]
    }
   ],
   "source": [
    "testClass = []\n",
    "for i in range(len(xt)):\n",
    "    temp = []\n",
    "    testC = []\n",
    "    for j in range(len(classTrain)):\n",
    "        point1 = np.array((classTrain[j][0], classTrain[j][1])) \n",
    "        point2 = np.array((xt[i],yt[i])) \n",
    "\n",
    "        # calculating Euclidean distance using linalg.norm() \n",
    "        dist = np.linalg.norm(point1 - point2) \n",
    "        \n",
    "        temp.append(classTrain[j][0])\n",
    "        temp.append(classTrain[j][1])\n",
    "        temp.append(classTrain[j][2])\n",
    "        temp.append(xt[i])\n",
    "        temp.append(yt[i])\n",
    "        temp.append(dist)\n",
    "        # printing Euclidean distance \n",
    "        print(classTrain[j][0],\"  \" ,classTrain[j][1], \"  \",xt[i],\"  \",yt[i],\"  \",dist) \n",
    "        testC.append(temp)\n",
    "        temp = []\n",
    "    print(\"\\n\\n\")\n",
    "    #testC.append(temp)\n",
    "    testClass.append(testC)\n",
    "    testC = []"
   ]
  },
  {
   "cell_type": "code",
   "execution_count": 32,
   "metadata": {},
   "outputs": [
    {
     "data": {
      "text/plain": [
       "[[7.0, 7.0, 1, 3.0, 7.0, 4.0],\n",
       " [7.0, 4.0, 1, 3.0, 7.0, 5.0],\n",
       " [6.0, 4.0, 1, 3.0, 7.0, 4.242640687119285],\n",
       " [7.0, 5.0, 1, 3.0, 7.0, 4.47213595499958],\n",
       " [7.0, 6.0, 1, 3.0, 7.0, 4.123105625617661],\n",
       " [6.0, 7.0, 1, 3.0, 7.0, 3.0],\n",
       " [6.0, 6.0, 1, 3.0, 7.0, 3.1622776601683795],\n",
       " [3.0, 4.0, 2, 3.0, 7.0, 3.0],\n",
       " [2.0, 3.0, 2, 3.0, 7.0, 4.123105625617661],\n",
       " [3.0, 2.0, 2, 3.0, 7.0, 5.0],\n",
       " [4.0, 3.0, 2, 3.0, 7.0, 4.123105625617661],\n",
       " [3.0, 3.0, 2, 3.0, 7.0, 4.0],\n",
       " [4.0, 4.0, 2, 3.0, 7.0, 3.1622776601683795],\n",
       " [1.0, 4.0, 2, 3.0, 7.0, 3.605551275463989]]"
      ]
     },
     "execution_count": 32,
     "metadata": {},
     "output_type": "execute_result"
    }
   ],
   "source": [
    "testClass[0]"
   ]
  },
  {
   "cell_type": "code",
   "execution_count": 33,
   "metadata": {},
   "outputs": [],
   "source": [
    "testClass = np.array(testClass)"
   ]
  },
  {
   "cell_type": "code",
   "execution_count": 34,
   "metadata": {},
   "outputs": [
    {
     "name": "stdout",
     "output_type": "stream",
     "text": [
      "3.0   7.0   2   3\n",
      "7.0   7.0   5   0\n",
      "4.0   3.0   0   5\n",
      "2.0   8.0   2   3\n",
      "3.0   5.0   0   5\n",
      "1.0   2.0   0   5\n",
      "4.0   8.0   4   1\n",
      "8.0   3.0   5   0\n",
      "8.0   4.0   5   0\n"
     ]
    }
   ],
   "source": [
    "x1Test,y1Test = [],[]\n",
    "x2Test,y2Test = [],[]\n",
    "for i in range(len(xt)):\n",
    "    #take single table and sort by weight\n",
    "    test = testClass[i]\n",
    "    sorted_array = test[np.argsort(test[:, 5])]\n",
    "    \n",
    "    # take k th sort vales in afterT lis\n",
    "    afterS = []\n",
    "    for i in range(int(k)):\n",
    "        afterS.append(sorted_array[i])\n",
    "     \n",
    "    \n",
    "    f = open(\"prediction.txt\", \"a\")\n",
    "    f.write(\"Test point: %d ,\" % afterS[i][3])\n",
    "    f.write(\"%d \\n\" % afterS[i][4])\n",
    "    #f.write(str(\"Test point: \",afterS[i][3],\",\",afterS[i][4]))\n",
    "    \n",
    "    countC1 = 0\n",
    "    countC2 = 0\n",
    "    for j in range(int(k)):\n",
    "        if(afterS[j][2] == 1):\n",
    "            f.write(\"Distance %d: \" % (j+1))\n",
    "            f.write(\"%f\" % afterS[j][5])\n",
    "            f.write(\" Class: 1 \\n\")\n",
    "            countC1 = countC1 + 1\n",
    "        else:\n",
    "            f.write(\"Distance %d: \" % (j+1))\n",
    "            f.write(\"%f\" % afterS[j][5])\n",
    "            f.write(\" Class: 2 \\n\")\n",
    "            countC2 = countC2 + 1\n",
    "    \n",
    "    if(countC1>countC2):\n",
    "        f.write(\"Predicted class: 1 \\n\")\n",
    "        x1Test.append(afterS[i][3])\n",
    "        y1Test.append(afterS[i][4])\n",
    "    else:\n",
    "        f.write(\"Predicted class: 2 \\n\")\n",
    "        x2Test.append(afterS[i][3])\n",
    "        y2Test.append(afterS[i][4])\n",
    "    \n",
    "    \n",
    "    f.write(\"\\n\")\n",
    "    f.close()\n",
    "            \n",
    "    print(afterS[i][3],\" \",afterS[i][4],\" \",countC1,\" \", countC2)"
   ]
  },
  {
   "cell_type": "code",
   "execution_count": null,
   "metadata": {},
   "outputs": [],
   "source": []
  },
  {
   "cell_type": "code",
   "execution_count": 35,
   "metadata": {},
   "outputs": [
    {
     "data": {
      "text/plain": [
       "[]"
      ]
     },
     "execution_count": 35,
     "metadata": {},
     "output_type": "execute_result"
    },
    {
     "data": {
      "image/png": "[encoded data removed]",
      "text/plain": [
       "<Figure size 1080x720 with 1 Axes>"
      ]
     },
     "metadata": {},
     "output_type": "display_data"
    }
   ],
   "source": [
    "plt.figure(figsize=(15, 10))\n",
    " \n",
    "#for train \n",
    "red_dot, = plt.plot(x1,y1,'ro',markersize = 10) # red dot\n",
    "blk_str, = plt.plot(x2,y2,'ok',marker='*',markersize=10) # black *\n",
    "\n",
    "\n",
    "\n",
    "#for test\n",
    "redPls, = plt.plot(x1Test,y1Test,'ro',marker='+',markersize=20) #red +\n",
    "blkX, = plt.plot(x2Test,y2Test,'ok',marker='X',markersize=10)#black x\n",
    "\n",
    "\n",
    "\n",
    "plt.legend([red_dot, blk_str,redPls, blkX], [\"Train class1\", \"Train class2\",'Test class1','Test class2'])\n",
    "\n",
    "plt.plot()\n",
    "\n"
   ]
  },
  {
   "cell_type": "code",
   "execution_count": null,
   "metadata": {},
   "outputs": [],
   "source": []
  }
 ],
 "metadata": {
  "kernelspec": {
   "display_name": "Python 3",
   "language": "python",
   "name": "python3"
  },
  "language_info": {
   "codemirror_mode": {
    "name": "ipython",
    "version": 3
   },
   "file_extension": ".py",
   "mimetype": "text/x-python",
   "name": "python",
   "nbconvert_exporter": "python",
   "pygments_lexer": "ipython3",
   "version": "3.6.4"
  }
 },
 "nbformat": 4,
 "nbformat_minor": 2
}
